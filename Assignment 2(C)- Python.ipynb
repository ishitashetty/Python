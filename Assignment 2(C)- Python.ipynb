{
 "cells": [
  {
   "cell_type": "markdown",
   "id": "0f7a3f1b",
   "metadata": {},
   "source": [
    "Q1. Write a Python program to convert kilometers to miles?"
   ]
  },
  {
   "cell_type": "code",
   "execution_count": 2,
   "id": "912f5cfd",
   "metadata": {},
   "outputs": [
    {
     "name": "stdout",
     "output_type": "stream",
     "text": [
      "Enter value in kilometers: 20\n",
      "20.0 kilometers in miles is: 12.42742\n"
     ]
    }
   ],
   "source": [
    "km = float(input(\"Enter value in Kilometers: \"))\n",
    "miles= km*0.621371\n",
    "\n",
    "print(km,\"kilometers in miles is:\",miles)"
   ]
  },
  {
   "cell_type": "markdown",
   "id": "1e21a310",
   "metadata": {},
   "source": [
    "Q2. Write a Python program to convert Celsius to Fahrenheit?"
   ]
  },
  {
   "cell_type": "code",
   "execution_count": 3,
   "id": "51a6381b",
   "metadata": {},
   "outputs": [
    {
     "name": "stdout",
     "output_type": "stream",
     "text": [
      "Enter value in Celsius: 0\n",
      "0.0 in fahrenheit is:  32.0\n"
     ]
    }
   ],
   "source": [
    "celsius = float(input(\"Enter value in Celsius: \"))\n",
    "fahrenheit = (celsius * 1.8) + 32\n",
    "\n",
    "print(celsius,\"in fahrenheit is: \",fahrenheit)"
   ]
  },
  {
   "cell_type": "markdown",
   "id": "03313cf1",
   "metadata": {},
   "source": [
    "Q3. Write a Python program to display calendar"
   ]
  },
  {
   "cell_type": "code",
   "execution_count": 8,
   "id": "fe6eaad6",
   "metadata": {},
   "outputs": [
    {
     "name": "stdout",
     "output_type": "stream",
     "text": [
      "Enter year: 2022\n",
      "Enter month: 02\n",
      "   February 2022\n",
      "Mo Tu We Th Fr Sa Su\n",
      "    1  2  3  4  5  6\n",
      " 7  8  9 10 11 12 13\n",
      "14 15 16 17 18 19 20\n",
      "21 22 23 24 25 26 27\n",
      "28\n",
      "\n"
     ]
    }
   ],
   "source": [
    "import calendar\n",
    "\n",
    "yy = int(input(\"Enter year: \"))\n",
    "mm = int(input(\"Enter month: \"))\n",
    "\n",
    "print(calendar.month(yy, mm))\n"
   ]
  },
  {
   "cell_type": "markdown",
   "id": "080be08d",
   "metadata": {},
   "source": [
    "Q4. Write a Python program to solve quadratic equation?"
   ]
  },
  {
   "cell_type": "code",
   "execution_count": 8,
   "id": "1056eae4",
   "metadata": {},
   "outputs": [
    {
     "name": "stdout",
     "output_type": "stream",
     "text": [
      "Enter value of a 2\n",
      "Enter value of b 4\n",
      "Enter value of c 6\n",
      "The solutions are; (-1-1.4142135623730951j) (-1+1.4142135623730951j)\n"
     ]
    }
   ],
   "source": [
    "import cmath\n",
    "\n",
    "a= int(input(\"Enter value of a \"))\n",
    "b= int(input(\"Enter value of b \"))\n",
    "c= int(input(\"Enter value of c \"))\n",
    "\n",
    "eq = (b**2) - (4*a*c)\n",
    "\n",
    "sol1 = (-b-cmath.sqrt(eq))/(2*a)\n",
    "sol2 = (-b+cmath.sqrt(eq))/(2*a)\n",
    "\n",
    "print('The solutions are;',sol1,sol2)"
   ]
  },
  {
   "cell_type": "markdown",
   "id": "480e5f58",
   "metadata": {},
   "source": [
    "Q5. Write a Python program to swap two variables without temp variable?"
   ]
  },
  {
   "cell_type": "code",
   "execution_count": 10,
   "id": "d1698326",
   "metadata": {},
   "outputs": [
    {
     "name": "stdout",
     "output_type": "stream",
     "text": [
      "Enter variable 1 Ishita\n",
      "Enter variable 2 Shetty\n",
      "Before swapping: \n",
      "Value of x :  Ishita  and y :  Shetty\n",
      "After swapping: \n",
      "Value of x :  Shetty  and y :  Ishita\n"
     ]
    }
   ],
   "source": [
    "x = input(\"Enter variable 1 \")\n",
    "y = input(\"Enter variable 2 \")\n",
    "\n",
    "print (\"Before swapping: \")\n",
    "print(\"Value of x : \", x, \" and y : \", y)\n",
    "\n",
    "x, y = y, x\n",
    "\n",
    "print (\"After swapping: \")\n",
    "print(\"Value of x : \", x, \" and y : \", y)\n"
   ]
  }
 ],
 "metadata": {
  "kernelspec": {
   "display_name": "Python 3 (ipykernel)",
   "language": "python",
   "name": "python3"
  },
  "language_info": {
   "codemirror_mode": {
    "name": "ipython",
    "version": 3
   },
   "file_extension": ".py",
   "mimetype": "text/x-python",
   "name": "python",
   "nbconvert_exporter": "python",
   "pygments_lexer": "ipython3",
   "version": "3.9.7"
  }
 },
 "nbformat": 4,
 "nbformat_minor": 5
}
