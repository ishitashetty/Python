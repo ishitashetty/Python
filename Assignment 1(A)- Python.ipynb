{
 "cells": [
  {
   "cell_type": "markdown",
   "id": "559b550c",
   "metadata": {},
   "source": [
    "Q1 .In the below elements which of them are values or an expression?"
   ]
  },
  {
   "cell_type": "code",
   "execution_count": null,
   "id": "4ea57d53",
   "metadata": {},
   "outputs": [],
   "source": [
    "*---expression\n",
    "'hello'---value\n",
    "-87.8 ---value\n",
    "- ---expression\n",
    "/ ---expression\n",
    "+ --- expression\n",
    "6 --- value"
   ]
  },
  {
   "cell_type": "markdown",
   "id": "58c5eff9",
   "metadata": {},
   "source": [
    "Q2. What is the difference between string and variable?"
   ]
  },
  {
   "cell_type": "markdown",
   "id": "ceeb9212",
   "metadata": {},
   "source": [
    "Variables are the names that we give to certain values in our program to store information ,it is created the moment you first assign a value to it, while, <br>\n",
    "A string is a datatype in python that is used to display text which is enclosed in either \" \" or ' '.\n",
    "\n",
    "Eg:\n",
    "s = \"Hello World\" <br>\n",
    "Here s is a variable which is holding a string(Hello World)"
   ]
  },
  {
   "cell_type": "markdown",
   "id": "b768b99c",
   "metadata": {},
   "source": [
    "Q3. Describe three different data types."
   ]
  },
  {
   "cell_type": "markdown",
   "id": "4b34e3f4",
   "metadata": {},
   "source": [
    "Data type is an attribute associated with a piece of data that tells a computer system how to interpret its value.\n",
    "\n",
    "Three types of data types are as follows:\n",
    "1. String(str): It is a sequence of characters and the most commonly used data type to store text. A string can also include digits and symbols, however, it is always treated as text. Strings are iterable but are immutable.<br>\n",
    "eg: \"hello world\"\n",
    "\n",
    "2. Integer(int):It is the most common numeric data type used to store numbers without a fractional component. Integers are not iterable objects.<br>\n",
    "eg: 789\n",
    "\n",
    "3. Lists: Lists are used to store collections of data in a single variable. They are created using square brackets[]. It is an ordered sequence and are mutable.<br>\n",
    "eg: [2,3,4,5]"
   ]
  },
  {
   "cell_type": "markdown",
   "id": "7ef24ef1",
   "metadata": {},
   "source": [
    "Q4. What is an expression made up of? What do all expressions do?"
   ]
  },
  {
   "cell_type": "markdown",
   "id": "fc082a63",
   "metadata": {},
   "source": [
    "An expression is a combination of values, variables, operators, and calls to functions, which further needs to be evaluated and then produces a result.\n",
    "Expressions help us to perform various operations (it is evaluated as per the precedence of its operators) for example, if you ask Python to print an expression, the interpreter evaluates the expression and displays the result. "
   ]
  },
  {
   "cell_type": "markdown",
   "id": "0221d9e7",
   "metadata": {},
   "source": [
    "Q5. This assignment statements, like spam = 10. What is the difference between an\n",
    "expression and a statement?"
   ]
  },
  {
   "cell_type": "markdown",
   "id": "dafe6208",
   "metadata": {},
   "source": [
    "Expression is made up of values, containers, and mathematical operators. Evaluation of an expression always produces or returns a result value, while, <br>\n",
    "A statement is just a command that a python interpreter executes, like print(),though it may or may not produce or display a result value, it only does whatever the statement says."
   ]
  },
  {
   "cell_type": "markdown",
   "id": "d763dd48",
   "metadata": {},
   "source": [
    "Q6. After running the following code, what does the variable bacon contain?"
   ]
  },
  {
   "cell_type": "code",
   "execution_count": 2,
   "id": "7656ba51",
   "metadata": {},
   "outputs": [
    {
     "data": {
      "text/plain": [
       "23"
      ]
     },
     "execution_count": 2,
     "metadata": {},
     "output_type": "execute_result"
    }
   ],
   "source": [
    "bacon= 22\n",
    "bacon+1"
   ]
  },
  {
   "cell_type": "code",
   "execution_count": 3,
   "id": "53966b8d",
   "metadata": {},
   "outputs": [
    {
     "name": "stdout",
     "output_type": "stream",
     "text": [
      "22\n"
     ]
    }
   ],
   "source": [
    "print(bacon)"
   ]
  },
  {
   "cell_type": "markdown",
   "id": "cf98a752",
   "metadata": {},
   "source": [
    "Q7. What should the values of the following two terms be?"
   ]
  },
  {
   "cell_type": "code",
   "execution_count": 4,
   "id": "b1d8c807",
   "metadata": {},
   "outputs": [
    {
     "data": {
      "text/plain": [
       "'spamspamspam'"
      ]
     },
     "execution_count": 4,
     "metadata": {},
     "output_type": "execute_result"
    }
   ],
   "source": [
    "'spam' + 'spamspam'"
   ]
  },
  {
   "cell_type": "code",
   "execution_count": 5,
   "id": "93a28c69",
   "metadata": {},
   "outputs": [
    {
     "data": {
      "text/plain": [
       "'spamspamspam'"
      ]
     },
     "execution_count": 5,
     "metadata": {},
     "output_type": "execute_result"
    }
   ],
   "source": [
    "'spam'*3"
   ]
  },
  {
   "cell_type": "markdown",
   "id": "cc43b1b4",
   "metadata": {},
   "source": [
    "##### the output will be the same for both"
   ]
  },
  {
   "cell_type": "markdown",
   "id": "ee48611f",
   "metadata": {},
   "source": [
    "Q8. Why is eggs a valid variable name while 100 is invalid?"
   ]
  },
  {
   "cell_type": "markdown",
   "id": "dedd253a",
   "metadata": {},
   "source": [
    "100 is invalid as it is an integer while eggs is a str and variables dont accept integers for naming,<br>\n",
    "There are certain variable naming rules which we need to abide to such as;<br>\n",
    "\n",
    "A variable name must start with a letter or an underscore character.<br>\n",
    "A variable name cannot start with a digit.<br>\n",
    "A variable name can only contain alpha-numeric characters and underscores.<br>\n",
    "Variable names are case-sensitive (age, Age and AGE are three different variables)<br>\n",
    "A variable name cannot contain spaces.<br>\n",
    "The variable name cannot be any keywords in python.<br>"
   ]
  },
  {
   "cell_type": "markdown",
   "id": "f0fcaac9",
   "metadata": {},
   "source": [
    "Q9. What three functions can be used to get the integer, floating-point number, or string\n",
    "version of a value?"
   ]
  },
  {
   "cell_type": "markdown",
   "id": "29b4cf51",
   "metadata": {},
   "source": [
    "int(), float(),str()"
   ]
  },
  {
   "cell_type": "markdown",
   "id": "0cc5b52a",
   "metadata": {},
   "source": [
    "Q10. Why does this expression cause an error? How can you fix it?\n",
    "\"I have eaten\" + 99 +\"burritos\""
   ]
  },
  {
   "cell_type": "markdown",
   "id": "76ceee0b",
   "metadata": {},
   "source": [
    "It causes an error bec 99 is of a different data type,it is an integer while the rest two are strings.<br>\n",
    "An integer cannot be concatenated with a string (due to difference in datatypes).<br>\n",
    "\n",
    "If we want to concatenate it we need to do typecasting."
   ]
  },
  {
   "cell_type": "code",
   "execution_count": 7,
   "id": "548a2310",
   "metadata": {},
   "outputs": [
    {
     "data": {
      "text/plain": [
       "'I have eaten 99 burritos'"
      ]
     },
     "execution_count": 7,
     "metadata": {},
     "output_type": "execute_result"
    }
   ],
   "source": [
    "#fixed code\n",
    "\"I have eaten \" + str(99) +\" burritos\""
   ]
  },
  {
   "cell_type": "markdown",
   "id": "0a252885",
   "metadata": {},
   "source": [
    "### END OF PAGE"
   ]
  }
 ],
 "metadata": {
  "kernelspec": {
   "display_name": "Python 3 (ipykernel)",
   "language": "python",
   "name": "python3"
  },
  "language_info": {
   "codemirror_mode": {
    "name": "ipython",
    "version": 3
   },
   "file_extension": ".py",
   "mimetype": "text/x-python",
   "name": "python",
   "nbconvert_exporter": "python",
   "pygments_lexer": "ipython3",
   "version": "3.9.7"
  }
 },
 "nbformat": 4,
 "nbformat_minor": 5
}
