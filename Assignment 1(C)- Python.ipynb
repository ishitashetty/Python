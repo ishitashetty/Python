{
 "cells": [
  {
   "cell_type": "markdown",
   "id": "07a1e09f",
   "metadata": {},
   "source": [
    "1. Write a Python program to print \"Hello Python\"?"
   ]
  },
  {
   "cell_type": "code",
   "execution_count": 10,
   "id": "825d9697",
   "metadata": {},
   "outputs": [
    {
     "name": "stdout",
     "output_type": "stream",
     "text": [
      "Hello Python\n"
     ]
    }
   ],
   "source": [
    "print(\"Hello Python\")"
   ]
  },
  {
   "cell_type": "markdown",
   "id": "ee4ab7fd",
   "metadata": {},
   "source": [
    "2. Write a Python program to do arithmetical operations addition and division.?"
   ]
  },
  {
   "cell_type": "code",
   "execution_count": 11,
   "id": "82073823",
   "metadata": {},
   "outputs": [
    {
     "name": "stdout",
     "output_type": "stream",
     "text": [
      "Enter First number: 4\n",
      "Enter Second number 2\n",
      "Sum of  4 and 2 is : 6\n",
      "Division of  4 and 2 is : 2.0\n"
     ]
    }
   ],
   "source": [
    "num1 = int(input('Enter First number: '))\n",
    "num2 = int(input('Enter Second number '))\n",
    "add = num1 + num2\n",
    "div = num1 / num2\n",
    "\n",
    "print('Sum of ',num1 ,'and' ,num2 ,'is :',add)\n",
    "print('Division of ',num1 ,'and' ,num2 ,'is :',div)"
   ]
  },
  {
   "cell_type": "markdown",
   "id": "2da77462",
   "metadata": {},
   "source": [
    "3. Write a Python program to find the area of a triangle?"
   ]
  },
  {
   "cell_type": "code",
   "execution_count": 12,
   "id": "9332e549",
   "metadata": {},
   "outputs": [
    {
     "name": "stdout",
     "output_type": "stream",
     "text": [
      "Enter base: 4\n",
      "Enter height: 2\n",
      "Area of the triangle is: 4.0\n"
     ]
    }
   ],
   "source": [
    "base = int(input('Enter base: '))\n",
    "height= int(input('Enter height: '))\n",
    "area= 0.5*base*height\n",
    "\n",
    "print(\"Area of the triangle is:\",area)"
   ]
  },
  {
   "cell_type": "markdown",
   "id": "59b7c4ba",
   "metadata": {},
   "source": [
    "4. Write a Python program to swap two variables?"
   ]
  },
  {
   "cell_type": "code",
   "execution_count": 13,
   "id": "e98e5460",
   "metadata": {},
   "outputs": [
    {
     "name": "stdout",
     "output_type": "stream",
     "text": [
      "Enter variable 1:Ishita \n",
      "Enter variable 2:Shetty\n",
      "The value of x after swapping: Shetty\n",
      "The value of y after swapping: Ishita \n"
     ]
    }
   ],
   "source": [
    "x= input(\"Enter variable 1:\")\n",
    "y= input(\"Enter variable 2:\")\n",
    "\n",
    "z=x   #z is a temporary variable\n",
    "x=y\n",
    "y=z\n",
    "\n",
    "print('The value of x after swapping:',x)\n",
    "print('The value of y after swapping:',y)"
   ]
  },
  {
   "cell_type": "markdown",
   "id": "b7acabd4",
   "metadata": {},
   "source": [
    "5. Write a Python program to generate a random number?"
   ]
  },
  {
   "cell_type": "code",
   "execution_count": 14,
   "id": "3b347506",
   "metadata": {},
   "outputs": [
    {
     "name": "stdout",
     "output_type": "stream",
     "text": [
      "Random Number: 467\n"
     ]
    }
   ],
   "source": [
    "import random\n",
    "\n",
    "print('Random Number:',random.randint(0,1000))"
   ]
  }
 ],
 "metadata": {
  "kernelspec": {
   "display_name": "Python 3 (ipykernel)",
   "language": "python",
   "name": "python3"
  },
  "language_info": {
   "codemirror_mode": {
    "name": "ipython",
    "version": 3
   },
   "file_extension": ".py",
   "mimetype": "text/x-python",
   "name": "python",
   "nbconvert_exporter": "python",
   "pygments_lexer": "ipython3",
   "version": "3.9.7"
  }
 },
 "nbformat": 4,
 "nbformat_minor": 5
}
