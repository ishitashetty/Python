{
 "cells": [
  {
   "cell_type": "markdown",
   "id": "bf5ec322",
   "metadata": {},
   "source": [
    "1. Write a Python program to print \"Hello Python\"?"
   ]
  },
  {
   "cell_type": "code",
   "execution_count": 1,
   "id": "4448f87e",
   "metadata": {},
   "outputs": [
    {
     "name": "stdout",
     "output_type": "stream",
     "text": [
      "Hello Python\n"
     ]
    }
   ],
   "source": [
    "print(\"Hello Python\")"
   ]
  },
  {
   "cell_type": "markdown",
   "id": "5ef1cfae",
   "metadata": {},
   "source": [
    "2. Write a Python program to do arithmetical operations addition and division.?"
   ]
  },
  {
   "cell_type": "code",
   "execution_count": 3,
   "id": "927b11a3",
   "metadata": {},
   "outputs": [
    {
     "name": "stdout",
     "output_type": "stream",
     "text": [
      "Enter First number: 4\n",
      "Enter Second number 2\n",
      "Sum of  4 and 2 is : 6\n",
      "Division of  4 and 2 is : 2.0\n"
     ]
    }
   ],
   "source": [
    "num1 = int(input('Enter First number: '))\n",
    "num2 = int(input('Enter Second number '))\n",
    "add = num1 + num2\n",
    "div = num1 / num2\n",
    "\n",
    "print('Sum of ',num1 ,'and' ,num2 ,'is :',add)\n",
    "print('Division of ',num1 ,'and' ,num2 ,'is :',div)"
   ]
  },
  {
   "cell_type": "markdown",
   "id": "38845ee1",
   "metadata": {},
   "source": [
    "3. Write a Python program to find the area of a triangle?"
   ]
  },
  {
   "cell_type": "code",
   "execution_count": 4,
   "id": "feeee43c",
   "metadata": {},
   "outputs": [
    {
     "name": "stdout",
     "output_type": "stream",
     "text": [
      "Enter base: 4\n",
      "Enter height: 2\n",
      "Area of the triangle is: 4.0\n"
     ]
    }
   ],
   "source": [
    "base = int(input('Enter base: '))\n",
    "height= int(input('Enter height: '))\n",
    "area= 0.5*base*height\n",
    "\n",
    "print(\"Area of the triangle is:\",area)"
   ]
  },
  {
   "cell_type": "markdown",
   "id": "e5c676c2",
   "metadata": {},
   "source": [
    "4. Write a Python program to swap two variables?"
   ]
  },
  {
   "cell_type": "code",
   "execution_count": 5,
   "id": "3e5ebd4e",
   "metadata": {},
   "outputs": [
    {
     "name": "stdout",
     "output_type": "stream",
     "text": [
      "Enter variable 1:ishita\n",
      "Enter variable 2:shetty\n",
      "The value of x after swapping: shetty\n",
      "The value of y after swapping: ishita\n"
     ]
    }
   ],
   "source": [
    "x= input(\"Enter variable 1:\")\n",
    "y= input(\"Enter variable 2:\")\n",
    "\n",
    "z=x   #z is a temporary variable\n",
    "x=y\n",
    "y=z\n",
    "\n",
    "print('The value of x after swapping:',x)\n",
    "print('The value of y after swapping:',y)"
   ]
  },
  {
   "cell_type": "markdown",
   "id": "03ce8dc8",
   "metadata": {},
   "source": [
    "5. Write a Python program to generate a random number?"
   ]
  },
  {
   "cell_type": "code",
   "execution_count": 9,
   "id": "d733e6c6",
   "metadata": {},
   "outputs": [
    {
     "name": "stdout",
     "output_type": "stream",
     "text": [
      "Random Number: 596\n"
     ]
    }
   ],
   "source": [
    "import random\n",
    "\n",
    "print('Random Number:',random.randint(0,1000))"
   ]
  }
 ],
 "metadata": {
  "kernelspec": {
   "display_name": "Python 3 (ipykernel)",
   "language": "python",
   "name": "python3"
  },
  "language_info": {
   "codemirror_mode": {
    "name": "ipython",
    "version": 3
   },
   "file_extension": ".py",
   "mimetype": "text/x-python",
   "name": "python",
   "nbconvert_exporter": "python",
   "pygments_lexer": "ipython3",
   "version": "3.9.7"
  }
 },
 "nbformat": 4,
 "nbformat_minor": 5
}
